{
 "cells": [
  {
   "cell_type": "markdown",
   "id": "0c62f768-0c0f-4091-b58e-46e285c75154",
   "metadata": {},
   "source": [
    "Assignment - 1"
   ]
  },
  {
   "cell_type": "markdown",
   "id": "5b66556c-46d0-4dc9-9e18-5540d092285b",
   "metadata": {},
   "source": [
    "Q1 : Who developed Python programming language?\n",
    "\n",
    "Answer : Guido van Rossum"
   ]
  },
  {
   "cell_type": "markdown",
   "id": "f3e72651-3eca-4a29-ba23-eed54771c007",
   "metadata": {},
   "source": [
    "Q2 : Which type of programming does python support?\n",
    "\n",
    "Answer : Python is an interpreted programming language which supports object-oriented, structured and functional programming."
   ]
  },
  {
   "cell_type": "markdown",
   "id": "58032577-6288-4e7a-ad18-75286e7a3df8",
   "metadata": {},
   "source": [
    "Q3: Is Python case sensitive when dealing with identifiers?\n",
    "\n",
    "Answer : Yes python is case sensitive language"
   ]
  },
  {
   "cell_type": "markdown",
   "id": "1c747a0c-813b-4a2e-bf64-ab692cd5b132",
   "metadata": {},
   "source": [
    "Q4: What is the correct extension of the Python file?\n",
    "\n",
    "Answer: .py is the extension by which any python program file is saved."
   ]
  },
  {
   "cell_type": "markdown",
   "id": "45dc3450-0cea-4990-b294-cb6e0edac17b",
   "metadata": {},
   "source": [
    "Q5: Is Python code compiled or interpreted?\n",
    "\n",
    "Answer : Both, first it gets compiled to byte code in .pyc format, then gets interpreted when it runs."
   ]
  },
  {
   "cell_type": "markdown",
   "id": "193cac83-e10d-4e54-801a-cd454c02990c",
   "metadata": {},
   "source": [
    "Q6: Name a few blocks of code used to define in Python Language?\n",
    "\n",
    "Answer : The following are blocks: a module, a function body and a class definition. Each command typed interactively is a block. A script file is a code block."
   ]
  },
  {
   "cell_type": "markdown",
   "id": "bd63d282-4d3a-4b0c-a552-1d3852482daa",
   "metadata": {},
   "source": [
    "Q7 : state a character used to give single line comments in python?\n",
    "\n",
    "Answer : Single # character before any statement or line of code"
   ]
  },
  {
   "cell_type": "markdown",
   "id": "be150300-d18f-4e1b-8dd1-4cc12ab031b6",
   "metadata": {},
   "source": [
    "Q8 : mentions functions which can help us find the version of python that we are currently working on?\n",
    "\n",
    "Answer : python_version() from platform library, other sys.version"
   ]
  },
  {
   "cell_type": "code",
   "execution_count": 13,
   "id": "e6db5386-7e16-4f3a-a265-c5c9a8af8254",
   "metadata": {},
   "outputs": [
    {
     "name": "stdout",
     "output_type": "stream",
     "text": [
      "3.9.13\n",
      "3.9.13 (main, Aug 25 2022, 18:29:29) \n",
      "[Clang 12.0.0 ]\n"
     ]
    }
   ],
   "source": [
    "from platform import python_version\n",
    "print(python_version())\n",
    "import sys\n",
    "print(sys.version)"
   ]
  },
  {
   "cell_type": "markdown",
   "id": "417c0791-b6dc-4398-be68-a08a55fa5ec8",
   "metadata": {},
   "source": [
    "Q9 : Python supports the creation of anonymous functions at runtime, using a construct called\n",
    "\n",
    "Answer : Lambda functions"
   ]
  },
  {
   "cell_type": "markdown",
   "id": "bf9f91dd-8785-461f-b6f9-427004413c35",
   "metadata": {},
   "source": [
    "Q10 : What does pip stand for python?\n",
    "\n",
    "Answer : Preferred Installer Program - package manager for python"
   ]
  },
  {
   "cell_type": "markdown",
   "id": "e2f59fdb-3616-4135-bdaf-919251c4550d",
   "metadata": {},
   "source": [
    "Q11: Mention a few build in functions in python?\n",
    "\n",
    "Answer : print(), type(), list(), min(), max(), etc."
   ]
  },
  {
   "cell_type": "markdown",
   "id": "35b175e8-e9fe-439d-9de2-e129d5772189",
   "metadata": {},
   "source": [
    "Q12: What is the max possible length of an identifier in python?\n",
    "\n",
    "Answer : Although python gives it unlimimted length but PEP impose the rule upto 79 character limit."
   ]
  },
  {
   "cell_type": "markdown",
   "id": "736e0995-a443-4b55-bd4b-8e980af020e3",
   "metadata": {},
   "source": [
    "Q13: What are the benefits of using Python?\n",
    "\n",
    "Answer : Easy to read, learn and write. Dynamically typed is one such benefit and it is free and has open source contributors and has a vast collection of third party libraries for Data science and other frameworks as well."
   ]
  },
  {
   "cell_type": "markdown",
   "id": "63aa428c-2955-44a1-bf20-d6263be2853d",
   "metadata": {},
   "source": [
    "Q14 : How is memory managed in Python?\n",
    "\n",
    "Answer : Memory management in python is managed by Python private heap space. All Python objects and data structures are located in a private heap. The programmer does not have access to this private heap. The python interpreter takes care of this instead. Python also has an inbuilt garbage collector, which recycles all the unused memory and so that it can be made available to the heap space.\n",
    "    "
   ]
  },
  {
   "cell_type": "markdown",
   "id": "0644ab3a-8489-4a68-998b-49cb69747ae3",
   "metadata": {},
   "source": [
    "Q15 : How to install python on windows and set path variables?\n",
    "\n",
    "Answer : Step 1: Download the Python Installer binaries\n",
    "Step 2: Run the Executable Installer\n",
    "Step 3: Add Python to environmental variables\n",
    "Step 4: Verify the Python Installation\n",
    "The complete path of python.exe can be added by:\n",
    "Right-clicking This PC and going to Properties.\n",
    "Click on the Advanced system settings\n",
    "Click on the Environment Variables\n",
    "In the System variables section, selecting the Path variable and clicking on Edit. \n",
    "Click on New and entering Python’s install directory.\n",
    "Python can now be used directly from the command prompt without having to write its location. python --version will output the version of Python installed on your system."
   ]
  },
  {
   "cell_type": "markdown",
   "id": "d2d7e48d-0ac7-4cfa-8518-69c1b9d3c24d",
   "metadata": {},
   "source": [
    "Q16: Is indendation required in Python?\n",
    "\n",
    "Answer : Yes, Indentation is mandatory in python to define the blocks of statements. Whitespaces has been the preferred choice instead of tabs to indent in python. Default is 4 spaces\n"
   ]
  },
  {
   "cell_type": "markdown",
   "id": "3a875611-2fe7-4f9d-bc74-efe0967bb590",
   "metadata": {},
   "source": [
    " - Tarun Kalra"
   ]
  },
  {
   "cell_type": "code",
   "execution_count": null,
   "id": "b9e137d7-258d-4eb8-9882-1bf2084f7323",
   "metadata": {},
   "outputs": [],
   "source": []
  }
 ],
 "metadata": {
  "kernelspec": {
   "display_name": "Python 3 (ipykernel)",
   "language": "python",
   "name": "python3"
  },
  "language_info": {
   "codemirror_mode": {
    "name": "ipython",
    "version": 3
   },
   "file_extension": ".py",
   "mimetype": "text/x-python",
   "name": "python",
   "nbconvert_exporter": "python",
   "pygments_lexer": "ipython3",
   "version": "3.9.13"
  }
 },
 "nbformat": 4,
 "nbformat_minor": 5
}
