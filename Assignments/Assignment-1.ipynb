{
 "cells": [
  {
   "cell_type": "markdown",
   "id": "471728de-fb77-45fa-857e-6ff4fdea4167",
   "metadata": {},
   "source": [
    "Assignment - 1"
   ]
  },
  {
   "cell_type": "raw",
   "id": "c98cf2b2-7e3a-476e-bf7d-e648bd5b91d1",
   "metadata": {},
   "source": [
    "Q1 : Who developed Python programming language?\n",
    "\n",
    "Answer : Guido van Rossum"
   ]
  },
  {
   "cell_type": "raw",
   "id": "054520c5-512b-45dd-bf58-da97b81cc7e1",
   "metadata": {},
   "source": [
    "Q2 : Which type of programming does python support?\n",
    "\n",
    "Answer : Python is an interpreted programming language which supports object-oriented, structured and functional programming."
   ]
  },
  {
   "cell_type": "raw",
   "id": "35a32109-a69d-49b3-9aca-44aec765fe91",
   "metadata": {},
   "source": [
    "Q3: Is Python case sensitive when dealing with identifiers?\n",
    "\n",
    "Answer : Yes python is case sensitive language"
   ]
  },
  {
   "cell_type": "raw",
   "id": "74ef323d-251f-4443-a46b-439e371e8879",
   "metadata": {},
   "source": [
    "Q4: What is the correct extension of the Python file?\n",
    "\n",
    "Answer: .py is the extension by which any python program file is saved."
   ]
  },
  {
   "cell_type": "raw",
   "id": "4d6b2caa-98de-40e2-bfca-6f37d494024f",
   "metadata": {},
   "source": [
    "Q5: Is Python code compiled or interpreted?\n",
    "Answer : Both, first it gets compiled to byte code in .pyc format, then gets interpreted when it runs."
   ]
  },
  {
   "cell_type": "raw",
   "id": "ba33fc0a-8b0d-4151-8e36-32c2b62e48b5",
   "metadata": {},
   "source": [
    "Q6: Name a few blocks of code used to define in Python Language?\n",
    "Answer : The following are blocks: a module, a function body and a class definition. Each command typed interactively is a block. A script file is a code block."
   ]
  },
  {
   "cell_type": "code",
   "execution_count": null,
   "id": "ee04a86e-8470-4c99-8330-b2bcf4cabe10",
   "metadata": {},
   "outputs": [],
   "source": [
    "Q6: Name a few blocks of code used to define in Python Language"
   ]
  },
  {
   "cell_type": "raw",
   "id": "bbfe1609-fd3e-4ef4-8f9c-aa688dc1166e",
   "metadata": {},
   "source": [
    "Q7 : state a character used to give single line comments in python?\n",
    "Answer : Single # character before any statement or line of code"
   ]
  },
  {
   "cell_type": "raw",
   "id": "c8ea0748-dfa3-4979-962b-4e3b758b831b",
   "metadata": {},
   "source": [
    "Q8 : mentions functions which can help us find the version of python that we are currently working on?\n",
    "Answer : python_version() from platform library, other sys.version"
   ]
  },
  {
   "cell_type": "code",
   "execution_count": 5,
   "id": "e6db5386-7e16-4f3a-a265-c5c9a8af8254",
   "metadata": {},
   "outputs": [
    {
     "name": "stdout",
     "output_type": "stream",
     "text": [
      "3.9.13\n",
      "3.9.13 (main, Aug 25 2022, 18:29:29) \n",
      "[Clang 12.0.0 ]\n"
     ]
    }
   ],
   "source": [
    "from platform import python_version\n",
    "print(python_version())\n",
    "import sys\n",
    "print(sys.version)"
   ]
  },
  {
   "cell_type": "raw",
   "id": "4bde4424-0a41-4a05-8224-cd7114681b98",
   "metadata": {},
   "source": [
    "Q9 : Python supports the creation of anonymous functions at runtime, using a construct called\n",
    "Answer : Lambda functions"
   ]
  },
  {
   "cell_type": "raw",
   "id": "f459f9f0-d811-4a1d-a6d6-66cb36d0ca61",
   "metadata": {},
   "source": [
    "Q10 : What does pip stand for python?\n",
    "Answer : Preferred Installer Program - package manager for python"
   ]
  },
  {
   "cell_type": "raw",
   "id": "229ec45a-c093-4b33-a0dc-199b326ef3d5",
   "metadata": {},
   "source": [
    "Q11: Mention a few build in functions in python?\n",
    "Answer : print(), type(), list(), min(), max(), etc."
   ]
  },
  {
   "cell_type": "raw",
   "id": "2b9078a1-be4c-44c9-bf77-1731e077126d",
   "metadata": {},
   "source": [
    "Q12: What is the max possible length of an identifier in python?\n",
    "Answer : Although python gives it unlimimted length but PEP impose the rule upto 79 character limit."
   ]
  },
  {
   "cell_type": "raw",
   "id": "134085a1-1423-41a6-ad28-1339e7852d5e",
   "metadata": {},
   "source": [
    "Q13: What are the benefits of using Python?\n",
    "Answer : Easy to read, learn and write. Dynamically typed is one such benefit and it is free and has open source contributors and has a vast collection of third party libraries for Data science and other frameworks as well."
   ]
  },
  {
   "cell_type": "raw",
   "id": "697d1498-0a84-4eb3-9697-daf2b25cf3cb",
   "metadata": {},
   "source": [
    "Q14 : How is memory managed in Python?\n",
    "Answer : Memory management in python is managed by Python private heap space. All Python objects and data structures are located in a private heap. The programmer does not have access to this private heap. The python interpreter takes care of this instead. Python also has an inbuilt garbage collector, which recycles all the unused memory and so that it can be made available to the heap space.\n",
    "    "
   ]
  },
  {
   "cell_type": "raw",
   "id": "5da3e7de-64b6-4c59-81f4-3b9720ba0fea",
   "metadata": {},
   "source": [
    "Q15 : How to install python on windows and set path variables?\n",
    "Answer : Step 1: Download the Python Installer binaries\n",
    "Step 2: Run the Executable Installer\n",
    "Step 3: Add Python to environmental variables\n",
    "Step 4: Verify the Python Installation\n",
    "The complete path of python.exe can be added by:\n",
    "Right-clicking This PC and going to Properties.\n",
    "Click on the Advanced system settings\n",
    "Click on the Environment Variables\n",
    "In the System variables section, selecting the Path variable and clicking on Edit. \n",
    "Click on New and entering Python’s install directory.\n",
    "Python can now be used directly from the command prompt without having to write its location. python --version will output the version of Python installed on your system."
   ]
  },
  {
   "cell_type": "raw",
   "id": "bf99f6d0-1afb-48d6-b83a-58ef97a7fd0d",
   "metadata": {},
   "source": [
    "Q16: Is indendation required in Python?\n",
    "Answer : Yes, Indentation is mandatory in python to define the blocks of statements. Whitespaces has been the preferred choice instead of tabs to indent in python. Default is 4 spaces"
   ]
  },
  {
   "cell_type": "raw",
   "id": "137a398c-4472-43df-bd40-2f36e00ebb2e",
   "metadata": {},
   "source": [
    " - Tarun Kalra"
   ]
  },
  {
   "cell_type": "code",
   "execution_count": null,
   "id": "b9e137d7-258d-4eb8-9882-1bf2084f7323",
   "metadata": {},
   "outputs": [],
   "source": []
  }
 ],
 "metadata": {
  "kernelspec": {
   "display_name": "Python 3 (ipykernel)",
   "language": "python",
   "name": "python3"
  },
  "language_info": {
   "codemirror_mode": {
    "name": "ipython",
    "version": 3
   },
   "file_extension": ".py",
   "mimetype": "text/x-python",
   "name": "python",
   "nbconvert_exporter": "python",
   "pygments_lexer": "ipython3",
   "version": "3.9.13"
  }
 },
 "nbformat": 4,
 "nbformat_minor": 5
}
